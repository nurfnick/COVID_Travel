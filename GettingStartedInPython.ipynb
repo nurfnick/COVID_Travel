{
  "nbformat": 4,
  "nbformat_minor": 0,
  "metadata": {
    "colab": {
      "name": "GettingStartedInPython.ipynb",
      "provenance": [],
      "authorship_tag": "ABX9TyPoESEPn/v9PMoPnz0Zgw6H",
      "include_colab_link": true
    },
    "kernelspec": {
      "name": "python3",
      "display_name": "Python 3"
    }
  },
  "cells": [
    {
      "cell_type": "markdown",
      "metadata": {
        "id": "view-in-github",
        "colab_type": "text"
      },
      "source": [
        "<a href=\"https://colab.research.google.com/github/nurfnick/COVID_Travel/blob/master/GettingStartedInPython.ipynb\" target=\"_parent\"><img src=\"https://colab.research.google.com/assets/colab-badge.svg\" alt=\"Open In Colab\"/></a>"
      ]
    },
    {
      "cell_type": "markdown",
      "metadata": {
        "id": "-BnH91E9TG-1",
        "colab_type": "text"
      },
      "source": [
        "So Python is a nice programming language that allows you to do lot of things.  The best way to learn any language is to use it!  Id encourage you to just mess around and not worry if you break things!"
      ]
    },
    {
      "cell_type": "markdown",
      "metadata": {
        "id": "I2qsKUk9TGAk",
        "colab_type": "text"
      },
      "source": [
        ""
      ]
    },
    {
      "cell_type": "code",
      "metadata": {
        "id": "l6K5reG5TWhO",
        "colab_type": "code",
        "colab": {
          "base_uri": "https://localhost:8080/",
          "height": 35
        },
        "outputId": "8e7ba546-d2bb-417a-bfed-06e660695f91"
      },
      "source": [
        "3+2"
      ],
      "execution_count": 1,
      "outputs": [
        {
          "output_type": "execute_result",
          "data": {
            "text/plain": [
              "5"
            ]
          },
          "metadata": {
            "tags": []
          },
          "execution_count": 1
        }
      ]
    },
    {
      "cell_type": "code",
      "metadata": {
        "id": "3i7T0KUQTXr4",
        "colab_type": "code",
        "colab": {
          "base_uri": "https://localhost:8080/",
          "height": 35
        },
        "outputId": "aac4ca45-e573-4728-9390-0fdfdf5e5cbd"
      },
      "source": [
        "import numpy as np\n",
        "\n",
        "np.mean((1,2,3,45,5,6,7)) #this is the average"
      ],
      "execution_count": 8,
      "outputs": [
        {
          "output_type": "execute_result",
          "data": {
            "text/plain": [
              "9.857142857142858"
            ]
          },
          "metadata": {
            "tags": []
          },
          "execution_count": 8
        }
      ]
    },
    {
      "cell_type": "markdown",
      "metadata": {
        "id": "TLrnXIRjTvZ3",
        "colab_type": "text"
      },
      "source": [
        "So I had to add a package to do what I wanted, numpy is how you deal with numbers in python.  It is super powerful and I tend to use it a lot.  Let's see if I can get some data into this sheet."
      ]
    },
    {
      "cell_type": "code",
      "metadata": {
        "id": "8oVTtIgYTbRH",
        "colab_type": "code",
        "colab": {}
      },
      "source": [
        ""
      ],
      "execution_count": 0,
      "outputs": []
    }
  ]
}